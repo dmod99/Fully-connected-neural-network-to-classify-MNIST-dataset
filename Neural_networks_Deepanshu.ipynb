{
  "nbformat": 4,
  "nbformat_minor": 0,
  "metadata": {
    "colab": {
      "name": "Neural networks Deepanshu",
      "provenance": [],
      "collapsed_sections": []
    },
    "kernelspec": {
      "name": "python3",
      "display_name": "Python 3"
    },
    "accelerator": "GPU"
  },
  "cells": [
    {
      "cell_type": "markdown",
      "metadata": {
        "id": "lnx5Kk43kd_6"
      },
      "source": [
        "What this code does\n",
        "\n",
        "1.   Load `MNIST` dataset using custom functions\n",
        "2.   Apply suitable transformations and data cleaning techniques.\n",
        "3.   Flatten the images.\n",
        "4.   Build a multi-layered fully connected network (FCN) and use it to perform a classification task on test dataset. \n",
        "\n",
        "*  `custom_MNIST` folder ([drive folder here](https://drive.google.com/drive/folders/1pLU_nCa1hjc_-p2GcEkK67TrlgJYmFjT?usp=sharing))\n",
        "  *  `data_desc.csv` :- Contains test and train split of data along with its labels.\n",
        "  * 50000 train and 12000 test data points stored in .npy format.\n",
        "\n",
        "---\n"
      ]
    },
    {
      "cell_type": "markdown",
      "metadata": {
        "id": "VZ7T8ekFlKqE"
      },
      "source": [
        "Import the necessary libraries you may require for the project, it was always easier to check what all can be useful by going through the documentation.\n"
      ]
    },
    {
      "cell_type": "code",
      "metadata": {
        "id": "cDH3bEJplq-W",
        "colab": {
          "base_uri": "https://localhost:8080/",
          "height": 34
        },
        "outputId": "25242827-7a19-40f5-d992-95d7b9dedf9c"
      },
      "source": [
        "#import necessary libraries\n",
        "import keras\n",
        "from keras.utils.np_utils import to_categorical\n",
        "from keras.layers import Dense, Dropout, Flatten\n",
        "from keras.layers import Conv2D, MaxPooling2D\n",
        "import os\n",
        "import glob\n",
        "import pandas as pd\n",
        "from scipy import misc\n",
        "import numpy as np\n",
        "import matplotlib.pyplot as plt\n",
        "import matplotlib as mpl\n",
        "%matplotlib inline\n",
        "import tensorflow as tf\n",
        "from tensorflow import keras\n",
        "from tensorflow.keras import layers\n",
        "from tensorflow.keras.models import Sequential\n",
        "from keras.preprocessing import image\n",
        "import PIL\n",
        "import torch\n",
        "import sklearn.metrics\n",
        "from tqdm import tqdm\n",
        "\n",
        "from google.colab import drive\n",
        "drive.mount('/content/gdrive/')"
      ],
      "execution_count": null,
      "outputs": [
        {
          "output_type": "stream",
          "text": [
            "Drive already mounted at /content/gdrive/; to attempt to forcibly remount, call drive.mount(\"/content/gdrive/\", force_remount=True).\n"
          ],
          "name": "stdout"
        }
      ]
    },
    {
      "cell_type": "markdown",
      "metadata": {
        "id": "EKfrkPCkln6i"
      },
      "source": [
        "###_Step 2.a._ : Import data using custom functions\n",
        "\n",
        "We now import our data through the pipelines Keras provides. It would require suitable customizations depending on the problem at hand.\n",
        "\n",
        "Necessary transforms may also be created here.\n",
        "\n"
      ]
    },
    {
      "cell_type": "code",
      "metadata": {
        "id": "kdZYL78Zl3ly"
      },
      "source": [
        "os.chdir(\"/content/gdrive/My Drive/Custom_MNIST\")\n",
        "df = pd.read_csv('data_desc.csv')"
      ],
      "execution_count": null,
      "outputs": []
    },
    {
      "cell_type": "code",
      "metadata": {
        "id": "9gw6yNK6zKs_",
        "colab": {
          "base_uri": "https://localhost:8080/",
          "height": 195
        },
        "outputId": "bbdcf5eb-fcae-4a3b-cdb1-94c871ee9f28"
      },
      "source": [
        "df.head()\n"
      ],
      "execution_count": null,
      "outputs": [
        {
          "output_type": "execute_result",
          "data": {
            "text/html": [
              "<div>\n",
              "<style scoped>\n",
              "    .dataframe tbody tr th:only-of-type {\n",
              "        vertical-align: middle;\n",
              "    }\n",
              "\n",
              "    .dataframe tbody tr th {\n",
              "        vertical-align: top;\n",
              "    }\n",
              "\n",
              "    .dataframe thead th {\n",
              "        text-align: right;\n",
              "    }\n",
              "</style>\n",
              "<table border=\"1\" class=\"dataframe\">\n",
              "  <thead>\n",
              "    <tr style=\"text-align: right;\">\n",
              "      <th></th>\n",
              "      <th>file_name</th>\n",
              "      <th>split</th>\n",
              "      <th>label</th>\n",
              "    </tr>\n",
              "  </thead>\n",
              "  <tbody>\n",
              "    <tr>\n",
              "      <th>0</th>\n",
              "      <td>img_0.npy</td>\n",
              "      <td>train</td>\n",
              "      <td>1.0</td>\n",
              "    </tr>\n",
              "    <tr>\n",
              "      <th>1</th>\n",
              "      <td>img_1.npy</td>\n",
              "      <td>train</td>\n",
              "      <td>5.0</td>\n",
              "    </tr>\n",
              "    <tr>\n",
              "      <th>2</th>\n",
              "      <td>img_2.npy</td>\n",
              "      <td>train</td>\n",
              "      <td>0.0</td>\n",
              "    </tr>\n",
              "    <tr>\n",
              "      <th>3</th>\n",
              "      <td>img_3.npy</td>\n",
              "      <td>train</td>\n",
              "      <td>1.0</td>\n",
              "    </tr>\n",
              "    <tr>\n",
              "      <th>4</th>\n",
              "      <td>img_4.npy</td>\n",
              "      <td>train</td>\n",
              "      <td>6.0</td>\n",
              "    </tr>\n",
              "  </tbody>\n",
              "</table>\n",
              "</div>"
            ],
            "text/plain": [
              "   file_name  split  label\n",
              "0  img_0.npy  train    1.0\n",
              "1  img_1.npy  train    5.0\n",
              "2  img_2.npy  train    0.0\n",
              "3  img_3.npy  train    1.0\n",
              "4  img_4.npy  train    6.0"
            ]
          },
          "metadata": {
            "tags": []
          },
          "execution_count": 20
        }
      ]
    },
    {
      "cell_type": "code",
      "metadata": {
        "id": "vRHY4rxFPnCM",
        "colab": {
          "base_uri": "https://localhost:8080/",
          "height": 487
        },
        "outputId": "3f1be5e9-fed7-4b27-978c-501224f5188d"
      },
      "source": [
        "train_data = df[df['split']=='train']\n",
        "print(train_data)\n",
        "test_data = df[df['split']=='val']\n",
        "print(test_data)"
      ],
      "execution_count": null,
      "outputs": [
        {
          "output_type": "stream",
          "text": [
            "           file_name  split  label\n",
            "0          img_0.npy  train    1.0\n",
            "1          img_1.npy  train    5.0\n",
            "2          img_2.npy  train    0.0\n",
            "3          img_3.npy  train    1.0\n",
            "4          img_4.npy  train    6.0\n",
            "...              ...    ...    ...\n",
            "49995  img_49995.npy  train    8.0\n",
            "49996  img_49996.npy  train    8.0\n",
            "49997  img_49997.npy  train    0.0\n",
            "49998  img_49998.npy  train    4.0\n",
            "49999  img_49999.npy  train    9.0\n",
            "\n",
            "[50000 rows x 3 columns]\n",
            "           file_name split  label\n",
            "50000  img_50000.npy   val    5.0\n",
            "50001  img_50001.npy   val    7.0\n",
            "50002  img_50002.npy   val    7.0\n",
            "50003  img_50003.npy   val    1.0\n",
            "50004  img_50004.npy   val    8.0\n",
            "...              ...   ...    ...\n",
            "61995  img_61995.npy   val    6.0\n",
            "61996  img_61996.npy   val    1.0\n",
            "61997  img_61997.npy   val    2.0\n",
            "61998  img_61998.npy   val    2.0\n",
            "61999  img_61999.npy   val    5.0\n",
            "\n",
            "[12000 rows x 3 columns]\n"
          ],
          "name": "stdout"
        }
      ]
    },
    {
      "cell_type": "code",
      "metadata": {
        "id": "8ZN1awB6RgzX",
        "colab": {
          "base_uri": "https://localhost:8080/",
          "height": 34
        },
        "outputId": "6d67b760-a523-4c39-bf44-e86bcb3526d3"
      },
      "source": [
        "temp_train_labels = train_data['label'].values\n",
        "#Reducing train and test data size due to long runtime and frequent crashes\n",
        "#Google drive timeout occurs often\n",
        "index = list(range(25000, 50000))\n",
        "train_labels = np.delete(temp_train_labels, index)\n",
        "\n",
        "index2 = list(range(3000, 12000))\n",
        "temp_test_labels = test_data['label'].values\n",
        "test_labels = np.delete(temp_test_labels, index2)\n",
        "\n",
        "(train_labels.shape)"
      ],
      "execution_count": null,
      "outputs": [
        {
          "output_type": "execute_result",
          "data": {
            "text/plain": [
              "(25000,)"
            ]
          },
          "metadata": {
            "tags": []
          },
          "execution_count": 22
        }
      ]
    },
    {
      "cell_type": "code",
      "metadata": {
        "id": "1y4DCjG2TDkg",
        "colab": {
          "base_uri": "https://localhost:8080/",
          "height": 134
        },
        "outputId": "15c21d99-a364-4fdc-eae2-e5d9463a76af"
      },
      "source": [
        "y_train = tf.keras.utils.to_categorical(train_labels)\n",
        "y_test  = tf.keras.utils.to_categorical(test_labels)\n",
        "print(y_test)"
      ],
      "execution_count": null,
      "outputs": [
        {
          "output_type": "stream",
          "text": [
            "[[0. 0. 0. ... 0. 0. 0.]\n",
            " [0. 0. 0. ... 1. 0. 0.]\n",
            " [0. 0. 0. ... 1. 0. 0.]\n",
            " ...\n",
            " [0. 0. 0. ... 0. 1. 0.]\n",
            " [0. 0. 0. ... 0. 1. 0.]\n",
            " [0. 0. 0. ... 0. 0. 0.]]\n"
          ],
          "name": "stdout"
        }
      ]
    },
    {
      "cell_type": "code",
      "metadata": {
        "id": "8mm2e4FRu2VH",
        "colab": {
          "base_uri": "https://localhost:8080/",
          "height": 1000
        },
        "outputId": "96459ed1-df91-4dc2-c494-b343a65bd5fb"
      },
      "source": [
        "X_train=[]\n",
        "X_test=[]\n",
        "\n",
        "count=0;\n",
        "for i in range(0,25000) :\n",
        "  if(i % 100 == 0):\n",
        "    print(i)\n",
        "  path = 'data/img_'+str(i)+\".npy\"\n",
        "  X_train.append(np.array(np.load(path,encoding='bytes')).reshape(28,28,1))\n",
        "  count+=1\n",
        "print(len(X_train))"
      ],
      "execution_count": null,
      "outputs": [
        {
          "output_type": "stream",
          "text": [
            "0\n",
            "100\n",
            "200\n",
            "300\n",
            "400\n",
            "500\n",
            "600\n",
            "700\n",
            "800\n",
            "900\n",
            "1000\n",
            "1100\n",
            "1200\n",
            "1300\n",
            "1400\n",
            "1500\n",
            "1600\n",
            "1700\n",
            "1800\n",
            "1900\n",
            "2000\n",
            "2100\n",
            "2200\n",
            "2300\n",
            "2400\n",
            "2500\n",
            "2600\n",
            "2700\n",
            "2800\n",
            "2900\n",
            "3000\n",
            "3100\n",
            "3200\n",
            "3300\n",
            "3400\n",
            "3500\n",
            "3600\n",
            "3700\n",
            "3800\n",
            "3900\n",
            "4000\n",
            "4100\n",
            "4200\n",
            "4300\n",
            "4400\n",
            "4500\n",
            "4600\n",
            "4700\n",
            "4800\n",
            "4900\n",
            "5000\n",
            "5100\n",
            "5200\n",
            "5300\n",
            "5400\n",
            "5500\n",
            "5600\n",
            "5700\n",
            "5800\n",
            "5900\n",
            "6000\n",
            "6100\n",
            "6200\n",
            "6300\n",
            "6400\n",
            "6500\n",
            "6600\n",
            "6700\n",
            "6800\n",
            "6900\n",
            "7000\n",
            "7100\n",
            "7200\n",
            "7300\n",
            "7400\n",
            "7500\n",
            "7600\n",
            "7700\n",
            "7800\n",
            "7900\n",
            "8000\n",
            "8100\n",
            "8200\n",
            "8300\n",
            "8400\n",
            "8500\n",
            "8600\n",
            "8700\n",
            "8800\n",
            "8900\n",
            "9000\n",
            "9100\n",
            "9200\n",
            "9300\n",
            "9400\n",
            "9500\n",
            "9600\n",
            "9700\n",
            "9800\n",
            "9900\n",
            "10000\n",
            "10100\n",
            "10200\n",
            "10300\n",
            "10400\n",
            "10500\n",
            "10600\n",
            "10700\n",
            "10800\n",
            "10900\n",
            "11000\n",
            "11100\n",
            "11200\n",
            "11300\n",
            "11400\n",
            "11500\n",
            "11600\n",
            "11700\n",
            "11800\n",
            "11900\n",
            "12000\n",
            "12100\n",
            "12200\n",
            "12300\n",
            "12400\n",
            "12500\n",
            "12600\n",
            "12700\n",
            "12800\n",
            "12900\n",
            "13000\n",
            "13100\n",
            "13200\n",
            "13300\n",
            "13400\n",
            "13500\n",
            "13600\n",
            "13700\n",
            "13800\n",
            "13900\n",
            "14000\n",
            "14100\n",
            "14200\n",
            "14300\n",
            "14400\n",
            "14500\n",
            "14600\n",
            "14700\n",
            "14800\n",
            "14900\n",
            "15000\n",
            "15100\n",
            "15200\n",
            "15300\n",
            "15400\n",
            "15500\n",
            "15600\n",
            "15700\n",
            "15800\n",
            "15900\n",
            "16000\n",
            "16100\n",
            "16200\n",
            "16300\n",
            "16400\n",
            "16500\n",
            "16600\n",
            "16700\n",
            "16800\n",
            "16900\n",
            "17000\n",
            "17100\n",
            "17200\n",
            "17300\n",
            "17400\n",
            "17500\n",
            "17600\n",
            "17700\n",
            "17800\n",
            "17900\n",
            "18000\n",
            "18100\n",
            "18200\n",
            "18300\n",
            "18400\n",
            "18500\n",
            "18600\n",
            "18700\n",
            "18800\n",
            "18900\n",
            "19000\n",
            "19100\n",
            "19200\n",
            "19300\n",
            "19400\n",
            "19500\n",
            "19600\n",
            "19700\n",
            "19800\n",
            "19900\n",
            "20000\n",
            "20100\n",
            "20200\n",
            "20300\n",
            "20400\n",
            "20500\n",
            "20600\n",
            "20700\n",
            "20800\n",
            "20900\n",
            "21000\n",
            "21100\n",
            "21200\n",
            "21300\n",
            "21400\n",
            "21500\n",
            "21600\n",
            "21700\n",
            "21800\n",
            "21900\n",
            "22000\n",
            "22100\n",
            "22200\n",
            "22300\n",
            "22400\n",
            "22500\n",
            "22600\n",
            "22700\n",
            "22800\n",
            "22900\n",
            "23000\n",
            "23100\n",
            "23200\n",
            "23300\n",
            "23400\n",
            "23500\n",
            "23600\n",
            "23700\n",
            "23800\n",
            "23900\n",
            "24000\n",
            "24100\n",
            "24200\n",
            "24300\n",
            "24400\n",
            "24500\n",
            "24600\n",
            "24700\n",
            "24800\n",
            "24900\n",
            "25000\n"
          ],
          "name": "stdout"
        }
      ]
    },
    {
      "cell_type": "code",
      "metadata": {
        "id": "NJtmgvMC0zz-",
        "colab": {
          "base_uri": "https://localhost:8080/",
          "height": 538
        },
        "outputId": "0ef887c5-0166-4780-c96d-513997c6a7de"
      },
      "source": [
        "count=0;\n",
        "for i in range(50000,53000) :\n",
        "  if(i % 100 == 0):\n",
        "    print(i)\n",
        "  path ='data/img_'+str(i)+\".npy\"\n",
        "  X_test.append(np.array(np.load(path,encoding='bytes')).reshape(28,28,1))\n",
        "  count+=1\n",
        "print(len(X_test))"
      ],
      "execution_count": null,
      "outputs": [
        {
          "output_type": "stream",
          "text": [
            "50000\n",
            "50100\n",
            "50200\n",
            "50300\n",
            "50400\n",
            "50500\n",
            "50600\n",
            "50700\n",
            "50800\n",
            "50900\n",
            "51000\n",
            "51100\n",
            "51200\n",
            "51300\n",
            "51400\n",
            "51500\n",
            "51600\n",
            "51700\n",
            "51800\n",
            "51900\n",
            "52000\n",
            "52100\n",
            "52200\n",
            "52300\n",
            "52400\n",
            "52500\n",
            "52600\n",
            "52700\n",
            "52800\n",
            "52900\n",
            "3000\n"
          ],
          "name": "stdout"
        }
      ]
    },
    {
      "cell_type": "code",
      "metadata": {
        "id": "78qsWOEW0zcK",
        "colab": {
          "base_uri": "https://localhost:8080/",
          "height": 84
        },
        "outputId": "94f7775e-5bc9-4959-efbd-76d18af28a88"
      },
      "source": [
        "fin_x_train = np.array(X_train)\n",
        "fin_x_test = np.array(X_test)\n",
        "fin_y_train = np.array(y_train)\n",
        "fin_y_test = np.array(y_test)\n",
        "print(fin_x_train.shape)\n",
        "print(fin_x_test.shape)\n",
        "print(fin_y_train.shape)\n",
        "print(fin_y_test.shape)"
      ],
      "execution_count": null,
      "outputs": [
        {
          "output_type": "stream",
          "text": [
            "(25000, 28, 28, 1)\n",
            "(3000, 28, 28, 1)\n",
            "(25000, 10)\n",
            "(3000, 10)\n"
          ],
          "name": "stdout"
        }
      ]
    },
    {
      "cell_type": "markdown",
      "metadata": {
        "id": "1srNJ10Rl4QG"
      },
      "source": [
        "###_Step 2.b._: Data visualization"
      ]
    },
    {
      "cell_type": "code",
      "metadata": {
        "id": "2zpj9GiYl7iC",
        "colab": {
          "base_uri": "https://localhost:8080/",
          "height": 193
        },
        "outputId": "5342bbac-ec9f-4959-afc9-621c9e16fa85"
      },
      "source": [
        "plt.figure(figsize=[5,5])\n",
        "\n",
        "# Display the  image in training data\n",
        "plt.subplot(121)\n",
        "curr_img = np.reshape(X_test[61], (28,28))\n",
        "plt.imshow(curr_img, cmap='gray')"
      ],
      "execution_count": null,
      "outputs": [
        {
          "output_type": "execute_result",
          "data": {
            "text/plain": [
              "<matplotlib.image.AxesImage at 0x7fc6b1882978>"
            ]
          },
          "metadata": {
            "tags": []
          },
          "execution_count": 27
        },
        {
          "output_type": "display_data",
          "data": {
            "image/png": "[encoded data removed]",
            "text/plain": [
              "<Figure size 360x360 with 1 Axes>"
            ]
          },
          "metadata": {
            "tags": [],
            "needs_background": "light"
          }
        }
      ]
    },
    {
      "cell_type": "markdown",
      "metadata": {
        "id": "2Zs-nqANl71R"
      },
      "source": [
        "###_Step 3_ : Define Model architecture\n",
        "\n",
        "After we make sure the data is in the format that we need, we can start builing a suitable model architecture. "
      ]
    },
    {
      "cell_type": "code",
      "metadata": {
        "id": "7v5YVA0D-fUm"
      },
      "source": [
        "model = Sequential()\n",
        "model.add(Conv2D(32, (5, 5), activation='relu', input_shape=(28,28,1)))\n",
        "model.add(MaxPooling2D(pool_size=(2,2)))\n",
        "model.add(Conv2D(64, (5, 5), activation='relu'))\n",
        "model.add(MaxPooling2D(pool_size=(2, 2)))\n",
        "model.add(Flatten())\n",
        "model.add(Dense(1000, activation='relu'))\n",
        "model.add(Dropout(0.5))\n",
        "model.add(Dense(500, activation='relu'))\n",
        "model.add(Dropout(0.5))\n",
        "model.add(Dense(250, activation='relu'))\n",
        "model.add(Dense(10, activation='softmax'))"
      ],
      "execution_count": null,
      "outputs": []
    },
    {
      "cell_type": "markdown",
      "metadata": {
        "id": "vx89H9-6mAEK"
      },
      "source": [
        "###Step 4: Training and Validation Loop"
      ]
    },
    {
      "cell_type": "code",
      "metadata": {
        "id": "NZGDojkWmQwl",
        "colab": {
          "base_uri": "https://localhost:8080/",
          "height": 874
        },
        "outputId": "fefd4259-2981-4ef2-bb06-c30766ce402d"
      },
      "source": [
        "model.compile(\n",
        "  optimizer='adam',\n",
        "  loss='categorical_crossentropy',\n",
        "  metrics=['accuracy'],\n",
        ") \n",
        "# Train the model.\n",
        "model.fit(\n",
        "  fin_x_train,\n",
        "  fin_y_train,\n",
        "  epochs=25,\n",
        "  batch_size=32,\n",
        ")"
      ],
      "execution_count": null,
      "outputs": [
        {
          "output_type": "stream",
          "text": [
            "Epoch 1/25\n",
            "782/782 [==============================] - 3s 4ms/step - loss: 1.0088 - accuracy: 0.6422\n",
            "Epoch 2/25\n",
            "782/782 [==============================] - 3s 4ms/step - loss: 0.5169 - accuracy: 0.8262\n",
            "Epoch 3/25\n",
            "782/782 [==============================] - 3s 4ms/step - loss: 0.4336 - accuracy: 0.8575\n",
            "Epoch 4/25\n",
            "782/782 [==============================] - 3s 4ms/step - loss: 0.3173 - accuracy: 0.8982\n",
            "Epoch 5/25\n",
            "782/782 [==============================] - 3s 4ms/step - loss: 0.2658 - accuracy: 0.9165\n",
            "Epoch 6/25\n",
            "782/782 [==============================] - 3s 4ms/step - loss: 0.2403 - accuracy: 0.9226\n",
            "Epoch 7/25\n",
            "782/782 [==============================] - 3s 4ms/step - loss: 0.2198 - accuracy: 0.9298\n",
            "Epoch 8/25\n",
            "782/782 [==============================] - 3s 4ms/step - loss: 0.1997 - accuracy: 0.9361\n",
            "Epoch 9/25\n",
            "782/782 [==============================] - 3s 4ms/step - loss: 0.1822 - accuracy: 0.9434\n",
            "Epoch 10/25\n",
            "782/782 [==============================] - 3s 4ms/step - loss: 0.1698 - accuracy: 0.9458\n",
            "Epoch 11/25\n",
            "782/782 [==============================] - 3s 4ms/step - loss: 0.1604 - accuracy: 0.9480\n",
            "Epoch 12/25\n",
            "782/782 [==============================] - 3s 4ms/step - loss: 0.1516 - accuracy: 0.9518\n",
            "Epoch 13/25\n",
            "782/782 [==============================] - 3s 4ms/step - loss: 0.1464 - accuracy: 0.9534\n",
            "Epoch 14/25\n",
            "782/782 [==============================] - 3s 4ms/step - loss: 0.1409 - accuracy: 0.9552\n",
            "Epoch 15/25\n",
            "782/782 [==============================] - 3s 4ms/step - loss: 0.1342 - accuracy: 0.9566\n",
            "Epoch 16/25\n",
            "782/782 [==============================] - 3s 4ms/step - loss: 0.1287 - accuracy: 0.9593\n",
            "Epoch 17/25\n",
            "782/782 [==============================] - 3s 4ms/step - loss: 0.1201 - accuracy: 0.9613\n",
            "Epoch 18/25\n",
            "782/782 [==============================] - 3s 4ms/step - loss: 0.1163 - accuracy: 0.9630\n",
            "Epoch 19/25\n",
            "782/782 [==============================] - 3s 4ms/step - loss: 0.1085 - accuracy: 0.9660\n",
            "Epoch 20/25\n",
            "782/782 [==============================] - 3s 4ms/step - loss: 0.1006 - accuracy: 0.9674\n",
            "Epoch 21/25\n",
            "782/782 [==============================] - 3s 4ms/step - loss: 0.0994 - accuracy: 0.9673\n",
            "Epoch 22/25\n",
            "782/782 [==============================] - 3s 4ms/step - loss: 0.0968 - accuracy: 0.9682\n",
            "Epoch 23/25\n",
            "782/782 [==============================] - 3s 4ms/step - loss: 0.0962 - accuracy: 0.9695\n",
            "Epoch 24/25\n",
            "782/782 [==============================] - 3s 4ms/step - loss: 0.0869 - accuracy: 0.9716\n",
            "Epoch 25/25\n",
            "782/782 [==============================] - 3s 4ms/step - loss: 0.0851 - accuracy: 0.9718\n"
          ],
          "name": "stdout"
        },
        {
          "output_type": "execute_result",
          "data": {
            "text/plain": [
              "<tensorflow.python.keras.callbacks.History at 0x7fc6a041ecc0>"
            ]
          },
          "metadata": {
            "tags": []
          },
          "execution_count": 29
        }
      ]
    },
    {
      "cell_type": "markdown",
      "metadata": {
        "id": "-CKx3rN5mRBv"
      },
      "source": [
        "###Step 5: Results\n"
      ]
    },
    {
      "cell_type": "code",
      "metadata": {
        "id": "4hZEp_J2mVCb",
        "colab": {
          "base_uri": "https://localhost:8080/",
          "height": 50
        },
        "outputId": "8ec24cad-1b48-4f9f-ffe1-627f07a11027"
      },
      "source": [
        "model.evaluate(\n",
        "  fin_x_test,\n",
        "  fin_y_test\n",
        ")\n"
      ],
      "execution_count": null,
      "outputs": [
        {
          "output_type": "stream",
          "text": [
            "94/94 [==============================] - 0s 3ms/step - loss: 0.1422 - accuracy: 0.9543\n"
          ],
          "name": "stdout"
        },
        {
          "output_type": "execute_result",
          "data": {
            "text/plain": [
              "[0.14218637347221375, 0.9543333053588867]"
            ]
          },
          "metadata": {
            "tags": []
          },
          "execution_count": 31
        }
      ]
    }
  ]
}